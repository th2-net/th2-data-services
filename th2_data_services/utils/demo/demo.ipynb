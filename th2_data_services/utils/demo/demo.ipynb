{
 "cells": [
  {
   "cell_type": "code",
   "execution_count": null,
   "metadata": {},
   "outputs": [],
   "source": [
    "%load_ext autoreload\n",
    "%autoreload 2"
   ]
  },
  {
   "cell_type": "code",
   "execution_count": null,
   "metadata": {},
   "outputs": [],
   "source": [
    "from th2_data_services import Data\n",
    "from datetime  import datetime\n",
    "from typing import Dict\n",
    "import os\n",
    "import pickle\n",
    "import json\n",
    "import az_tree\n",
    "import event_utils\n",
    "import script_report_utils"
   ]
  },
  {
   "attachments": {},
   "cell_type": "markdown",
   "metadata": {},
   "source": [
    "## Data"
   ]
  },
  {
   "cell_type": "code",
   "execution_count": null,
   "metadata": {},
   "outputs": [],
   "source": [
    "data_cache = Data.from_cache_file('./cache_2.5kk_events/cache_2.5kk_events.pickle')"
   ]
  },
  {
   "cell_type": "code",
   "execution_count": null,
   "metadata": {},
   "outputs": [],
   "source": [
    "events = data_cache.limit(200_000)"
   ]
  },
  {
   "cell_type": "code",
   "execution_count": null,
   "metadata": {},
   "outputs": [],
   "source": [
    "event = list(events.limit(1))[0]"
   ]
  },
  {
   "cell_type": "code",
   "execution_count": null,
   "metadata": {},
   "outputs": [],
   "source": [
    "# messages = Data.from_cache_file('./messages.pickle')"
   ]
  },
  {
   "cell_type": "code",
   "execution_count": null,
   "metadata": {},
   "outputs": [],
   "source": [
    "# # Build DS-core ETC (OPTIONAL (Will take few seconds to build))\n",
    "# from th2_data_services.event_tree import EventTreeCollection\n",
    "# from th2_data_services_lwdp.event_tree import HttpETCDriver\n",
    "# \n",
    "# driver = HttpETCDriver()\n",
    "# etc = EventTreeCollection(driver)\n",
    "# etc.build(events)"
   ]
  },
  {
   "cell_type": "code",
   "execution_count": null,
   "metadata": {},
   "outputs": [],
   "source": [
    "parent_events = event_utils.get_roots(events, 1000)"
   ]
  },
  {
   "cell_type": "code",
   "execution_count": null,
   "metadata": {},
   "outputs": [],
   "source": [
    "parent = parent_events[0]"
   ]
  },
  {
   "attachments": {},
   "cell_type": "markdown",
   "metadata": {},
   "source": [
    "# Event Utils"
   ]
  },
  {
   "attachments": {},
   "cell_type": "markdown",
   "metadata": {},
   "source": [
    "### Get Type Totals"
   ]
  },
  {
   "cell_type": "code",
   "execution_count": null,
   "metadata": {},
   "outputs": [],
   "source": [
    "type_totals = event_utils.get_type_totals(events=events)\n",
    "type_totals"
   ]
  },
  {
   "attachments": {},
   "cell_type": "markdown",
   "metadata": {},
   "source": [
    "### Get Type Frequencies"
   ]
  },
  {
   "cell_type": "code",
   "execution_count": null,
   "metadata": {},
   "outputs": [],
   "source": [
    "type_frequencies = event_utils.get_type_frequencies(\n",
    "    events=events,\n",
    "    types=['Service event', 'ModelMatrix'],\n",
    "    aggregation_level=\"hours\"\n",
    ")\n",
    "type_frequencies\n"
   ]
  },
  {
   "attachments": {},
   "cell_type": "markdown",
   "metadata": {},
   "source": [
    "### Get Category Totals"
   ]
  },
  {
   "cell_type": "code",
   "execution_count": null,
   "metadata": {},
   "outputs": [],
   "source": [
    "category_totals = event_utils.get_category_totals(events=events,\n",
    "                                                  categorizer=lambda event: event['type'])\n",
    "category_totals\n"
   ]
  },
  {
   "attachments": {},
   "cell_type": "markdown",
   "metadata": {},
   "source": [
    "### Get Category Frequencies"
   ]
  },
  {
   "cell_type": "code",
   "execution_count": null,
   "metadata": {},
   "outputs": [],
   "source": [
    "category_frequencies = event_utils.get_category_frequencies(\n",
    "    events=events,\n",
    "    categories=['Service event', 'ModelMatrix'],\n",
    "    categorizer=lambda event: event['eventType']\n",
    ")\n",
    "category_frequencies"
   ]
  },
  {
   "attachments": {},
   "cell_type": "markdown",
   "metadata": {},
   "source": [
    "### Get Attached Message Ids"
   ]
  },
  {
   "cell_type": "code",
   "execution_count": null,
   "metadata": {},
   "outputs": [],
   "source": [
    "attached_message_ids = event_utils.get_attached_message_ids(events=events)\n",
    "attached_message_ids"
   ]
  },
  {
   "attachments": {},
   "cell_type": "markdown",
   "metadata": {},
   "source": [
    "### Get Attached Messages Totals"
   ]
  },
  {
   "cell_type": "code",
   "execution_count": null,
   "metadata": {},
   "outputs": [],
   "source": [
    "attached_messages_totals = event_utils.get_attached_messages_totals(events=events)\n",
    "attached_messages_totals"
   ]
  },
  {
   "attachments": {},
   "cell_type": "markdown",
   "metadata": {},
   "source": [
    "### Get Prior Parent Ids"
   ]
  },
  {
   "cell_type": "code",
   "execution_count": null,
   "metadata": {},
   "outputs": [],
   "source": [
    "prior_parent_ids = event_utils.get_prior_parent_ids(events=events)\n",
    "prior_parent_ids"
   ]
  },
  {
   "attachments": {},
   "cell_type": "markdown",
   "metadata": {},
   "source": [
    "### Get Attached Message Ids Index"
   ]
  },
  {
   "cell_type": "code",
   "execution_count": null,
   "metadata": {},
   "outputs": [],
   "source": [
    "# Can taka a lot of time (~48sec)\n",
    "attached_message_ids_index = event_utils.get_attached_message_ids_index(events=events)\n",
    "attached_message_ids_index"
   ]
  },
  {
   "attachments": {},
   "cell_type": "markdown",
   "metadata": {},
   "source": [
    "### Get Roots"
   ]
  },
  {
   "cell_type": "code",
   "execution_count": null,
   "metadata": {},
   "outputs": [],
   "source": [
    "roots = event_utils.get_roots(events=events, count=10)\n",
    "roots"
   ]
  },
  {
   "attachments": {},
   "cell_type": "markdown",
   "metadata": {},
   "source": [
    "### Get Parents"
   ]
  },
  {
   "cell_type": "code",
   "execution_count": null,
   "metadata": {},
   "outputs": [],
   "source": [
    "children_of_parent_1, parent_1 = event_utils.get_children_from_parent_id(events, parent['eventId'], 100)\n",
    "parents = event_utils.get_parents(events=events, children=children_of_parent_1)\n",
    "# or to find all parents\n",
    "# parents = event_utils.get_parents(events=events, children=events)\n",
    "assert [parent_1] == parents\n",
    "parents"
   ]
  },
  {
   "attachments": {},
   "cell_type": "markdown",
   "metadata": {},
   "source": [
    "### Get Some"
   ]
  },
  {
   "cell_type": "code",
   "execution_count": null,
   "metadata": {},
   "outputs": [],
   "source": [
    "some = event_utils.get_some(events=events, event_type='ModelCase', count=10)\n",
    "some"
   ]
  },
  {
   "attachments": {},
   "cell_type": "markdown",
   "metadata": {},
   "source": [
    "### Get Events By Category"
   ]
  },
  {
   "cell_type": "code",
   "execution_count": null,
   "metadata": {},
   "outputs": [],
   "source": [
    "events_by_category = event_utils.get_events_by_category(\n",
    "    # events=events, category='ModelCase', count=10, categorizer=lambda event: event['eventType']\n",
    "    # events=events, category=\"f0c3f6e8-fae7-40b6-8125-a16df981775d\", count=10, categorizer=lambda event: event['parentEventId']\n",
    "    events=events, category=False, count=10, categorizer=lambda event: event['successful']\n",
    ")\n",
    "events_by_category\n"
   ]
  },
  {
   "attachments": {},
   "cell_type": "markdown",
   "metadata": {},
   "source": [
    "### Get Related Events"
   ]
  },
  {
   "cell_type": "code",
   "execution_count": null,
   "metadata": {},
   "outputs": [],
   "source": [
    "# # Needs events/messages from same time interval, otherwise will not match.\n",
    "# related_events = event_utils.get_related_events(events=events, messages=messages, count=10)\n",
    "# related_events"
   ]
  },
  {
   "attachments": {},
   "cell_type": "markdown",
   "metadata": {},
   "source": [
    "### Get Children From Parent Id"
   ]
  },
  {
   "cell_type": "code",
   "execution_count": null,
   "metadata": {},
   "outputs": [],
   "source": [
    "children_from_parent_id = event_utils.get_children_from_parent_id(events=events,\n",
    "                                                                  parent_id=\"f0c3f6e8-fae7-40b6-8125-a16df981775d\",\n",
    "                                                                  max_events=10)\n",
    "children_from_parent_id\n"
   ]
  },
  {
   "attachments": {},
   "cell_type": "markdown",
   "metadata": {},
   "source": [
    "### Get Children From Parents"
   ]
  },
  {
   "cell_type": "code",
   "execution_count": null,
   "metadata": {},
   "outputs": [],
   "source": [
    "children_from_parents, children_count = event_utils.get_children_from_parents(events=events,\n",
    "                                                                              parents=parent_events,\n",
    "                                                                              max_events=1)\n",
    "print(f\"Children count: {children_count}\")\n",
    "children_from_parents\n"
   ]
  },
  {
   "attachments": {},
   "cell_type": "markdown",
   "metadata": {},
   "source": [
    "### Get Children From Parents As List"
   ]
  },
  {
   "cell_type": "code",
   "execution_count": null,
   "metadata": {},
   "outputs": [],
   "source": [
    "children_from_parents_as_list = event_utils.get_children_from_parents_as_list(events=events,\n",
    "                                                                              parents=parent_events,\n",
    "                                                                              max_events=1)\n",
    "children_from_parents_as_list"
   ]
  },
  {
   "attachments": {},
   "cell_type": "markdown",
   "metadata": {},
   "source": [
    "### Sublist"
   ]
  },
  {
   "cell_type": "code",
   "execution_count": null,
   "metadata": {},
   "outputs": [],
   "source": [
    "sublist = event_utils.sublist(\n",
    "    events=events,\n",
    "    start_time=datetime.fromisoformat(\"2022-03-16T10:50:16\"),\n",
    "    end_time=datetime.fromisoformat(\"2022-03-16T10:53:16\")\n",
    ")\n",
    "sublist\n"
   ]
  },
  {
   "attachments": {},
   "cell_type": "markdown",
   "metadata": {},
   "source": [
    "### Build Roots Cache"
   ]
  },
  {
   "cell_type": "code",
   "execution_count": null,
   "metadata": {},
   "outputs": [],
   "source": [
    "roots_cache = event_utils.build_roots_cache(events=events, depth=3, max_level=3)\n",
    "roots_cache"
   ]
  },
  {
   "attachments": {},
   "cell_type": "markdown",
   "metadata": {},
   "source": [
    "### Extract Start Timestamp"
   ]
  },
  {
   "cell_type": "code",
   "execution_count": null,
   "metadata": {},
   "outputs": [],
   "source": [
    "start_timestamp = event_utils.extract_start_timestamp(event=event)\n",
    "start_timestamp"
   ]
  },
  {
   "attachments": {},
   "cell_type": "markdown",
   "metadata": {},
   "source": [
    "### Print Type Totals"
   ]
  },
  {
   "cell_type": "code",
   "execution_count": null,
   "metadata": {},
   "outputs": [],
   "source": [
    "type_totals = event_utils.print_type_totals(\n",
    "    events=events, \n",
    "    # return_html=True\n",
    ")\n",
    "type_totals"
   ]
  },
  {
   "attachments": {},
   "cell_type": "markdown",
   "metadata": {},
   "source": [
    "### Print Type Frequencies"
   ]
  },
  {
   "cell_type": "code",
   "execution_count": null,
   "metadata": {},
   "outputs": [],
   "source": [
    "type_frequencies = event_utils.print_type_frequencies(\n",
    "    events=events,\n",
    "    event_types=['Service event', 'SendError','sendMessage'],\n",
    "    aggregation_level='hours',\n",
    "    # return_html=True\n",
    ")\n",
    "type_frequencies"
   ]
  },
  {
   "attachments": {},
   "cell_type": "markdown",
   "metadata": {},
   "source": [
    "### Print Category Totals"
   ]
  },
  {
   "cell_type": "code",
   "execution_count": null,
   "metadata": {},
   "outputs": [],
   "source": [
    "category_totals = event_utils.print_category_totals(\n",
    "    events=events, \n",
    "    # ignore_status=True\n",
    "    categorizer=lambda event: event['eventType'],\n",
    "    # # Presenting different possible use cases\n",
    "    # categorizer=lambda event: event['eventName']\n",
    "    # categorizer=lambda event: event['batchId']\n",
    ")\n",
    "category_totals"
   ]
  },
  {
   "attachments": {},
   "cell_type": "markdown",
   "metadata": {},
   "source": [
    "### Print Category Frequencies"
   ]
  },
  {
   "cell_type": "code",
   "execution_count": null,
   "metadata": {},
   "outputs": [],
   "source": [
    "category_frequencies = event_utils.print_category_frequencies(\n",
    "    events=events,\n",
    "    event_types=[\"Service event\", \"ModelCase\", \"ModelMatrix\"],\n",
    "    categorizer=lambda event: event['eventType'],\n",
    "    aggregation_level=\"hours\",\n",
    "    # return_html=True\n",
    ")\n",
    "category_frequencies\n"
   ]
  },
  {
   "attachments": {},
   "cell_type": "markdown",
   "metadata": {},
   "source": [
    "### Print Attached Messages Totals"
   ]
  },
  {
   "cell_type": "code",
   "execution_count": null,
   "metadata": {},
   "outputs": [],
   "source": [
    "attached_messages_totals = event_utils.print_attached_messages_totals(events=events\n",
    "                                                                      # return_html=True\n",
    "                                                                      )\n",
    "attached_messages_totals\n"
   ]
  },
  {
   "attachments": {},
   "cell_type": "markdown",
   "metadata": {},
   "source": [
    "### Print Roots"
   ]
  },
  {
   "cell_type": "code",
   "execution_count": null,
   "metadata": {},
   "outputs": [],
   "source": [
    "roots = event_utils.print_roots(events=events, count=10, start=10)\n",
    "roots"
   ]
  },
  {
   "attachments": {},
   "cell_type": "markdown",
   "metadata": {},
   "source": [
    "### Print Children"
   ]
  },
  {
   "cell_type": "code",
   "execution_count": null,
   "metadata": {},
   "outputs": [],
   "source": [
    "children = event_utils.print_children(events=events,\n",
    "                                      parent=\"d2e09664-a504-11ec-a6d5-2365793d9363\",\n",
    "                                      count=10,\n",
    "                                      # verbose=False\n",
    "                                      )\n",
    "children\n"
   ]
  },
  {
   "attachments": {},
   "cell_type": "markdown",
   "metadata": {},
   "source": [
    "### Print Event"
   ]
  },
  {
   "cell_type": "code",
   "execution_count": null,
   "metadata": {},
   "outputs": [],
   "source": [
    "event = event_utils.print_event(event=event)\n",
    "event"
   ]
  },
  {
   "attachments": {},
   "cell_type": "markdown",
   "metadata": {},
   "source": [
    "### Print Some"
   ]
  },
  {
   "cell_type": "code",
   "execution_count": null,
   "metadata": {},
   "outputs": [],
   "source": [
    "some = event_utils.print_some(\n",
    "    events=events,\n",
    "    event_type=\"ModelCase\",\n",
    "    count=10,\n",
    "    # start=10,\n",
    "    # failed=True,\n",
    "    # verbose=False\n",
    ")\n",
    "some"
   ]
  },
  {
   "attachments": {},
   "cell_type": "markdown",
   "metadata": {},
   "source": [
    "### Print Some By Category"
   ]
  },
  {
   "cell_type": "code",
   "execution_count": null,
   "metadata": {},
   "outputs": [],
   "source": [
    "some_by_category = event_utils.print_some_by_category(\n",
    "    events=events,\n",
    "    category=\"Service event\",\n",
    "    categorizer=lambda event: event['eventType'],\n",
    "    count=10,\n",
    "    # start=10,\n",
    "    # failed=True\n",
    ")\n",
    "some_by_category\n"
   ]
  },
  {
   "attachments": {},
   "cell_type": "markdown",
   "metadata": {},
   "source": [
    "### Print Children From Parents"
   ]
  },
  {
   "cell_type": "code",
   "execution_count": null,
   "metadata": {},
   "outputs": [],
   "source": [
    "children_from_parents = event_utils.print_children_from_parents(\n",
    "    events=events,\n",
    "    parents=parent_events,\n",
    "    max_events=10\n",
    ")\n",
    "children_from_parents"
   ]
  },
  {
   "attachments": {},
   "cell_type": "markdown",
   "metadata": {},
   "source": [
    "### Print Children Stats From Parents"
   ]
  },
  {
   "cell_type": "code",
   "execution_count": null,
   "metadata": {},
   "outputs": [],
   "source": [
    "children_stats_from_parents = event_utils.print_children_stats_from_parents(\n",
    "    events=events,\n",
    "    parents=parent_events,\n",
    "    max_events=10,\n",
    "    return_html=True\n",
    ")\n",
    "children_stats_from_parents"
   ]
  },
  {
   "cell_type": "markdown",
   "metadata": {},
   "source": [
    "- - - - - - - - - - - - - - - - - - - - - - - - - - - - - - - - - - - - - - - - - "
   ]
  },
  {
   "attachments": {},
   "cell_type": "markdown",
   "metadata": {},
   "source": [
    "# AZ Tree"
   ]
  },
  {
   "attachments": {},
   "cell_type": "markdown",
   "metadata": {},
   "source": [
    "### Get Event Tree From Parent Id"
   ]
  },
  {
   "cell_type": "code",
   "execution_count": null,
   "metadata": {},
   "outputs": [],
   "source": [
    "get_event_tree_from_parent_id = az_tree.get_event_tree_from_parent_id(\n",
    "    events=events,\n",
    "    parent_id=parent['eventId'],\n",
    "    depth=10,\n",
    "    max_children=50,\n",
    "    # body_to_simple_processors=None # TODO: Add examples\n",
    ")\n",
    "get_event_tree_from_parent_id\n"
   ]
  },
  {
   "cell_type": "code",
   "execution_count": null,
   "metadata": {},
   "outputs": [],
   "source": [
    "# Export to json for better view\n",
    "if not os.path.exists(\"./output\"): os.mkdir(\"output\")\n",
    "with open(\"./output/event_tree_from_parent_id.json\", \"w\") as f:\n",
    "    json.dump(get_event_tree_from_parent_id, f, ensure_ascii=False, indent=2)"
   ]
  },
  {
   "attachments": {},
   "cell_type": "markdown",
   "metadata": {},
   "source": [
    "### Get Event Tree From Parent Events"
   ]
  },
  {
   "cell_type": "code",
   "execution_count": null,
   "metadata": {},
   "outputs": [],
   "source": [
    "get_event_tree_from_parent_events = tree, index = az_tree.get_event_tree_from_parent_events(\n",
    "    events=events,\n",
    "    parents=parent_events,\n",
    "    depth=10,\n",
    "    max_children=50,\n",
    "    # body_to_simple_processors=None # TODO: Add examples\n",
    ")\n",
    "get_event_tree_from_parent_events"
   ]
  },
  {
   "cell_type": "code",
   "execution_count": null,
   "metadata": {},
   "outputs": [],
   "source": [
    "# Export to json for better view\n",
    "if not os.path.exists(\"./output\"): os.mkdir(\"output\")\n",
    "with open(\"./output/event_event_tree_from_parent_events_TREE.json\", \"w\") as f:\n",
    "    json.dump(tree, f, ensure_ascii=False, indent=2)"
   ]
  },
  {
   "cell_type": "code",
   "execution_count": null,
   "metadata": {},
   "outputs": [],
   "source": [
    "# Export to json for better view\n",
    "if not os.path.exists(\"./output\"): os.mkdir(\"output\")\n",
    "with open(\"./output/event_event_tree_from_parent_events_INDEX.json\", \"w\") as f:\n",
    "    json.dump(index, f, ensure_ascii=False, indent=2)"
   ]
  },
  {
   "attachments": {},
   "cell_type": "markdown",
   "metadata": {},
   "source": [
    "### Save Tree As Json"
   ]
  },
  {
   "cell_type": "code",
   "execution_count": null,
   "metadata": {},
   "outputs": [],
   "source": [
    "if not os.path.exists(\"./output\"): os.mkdir(\"output\")\n",
    "if not os.path.exists(\"./output/save_tree\"): os.mkdir(\"output/save_tree\")\n",
    "save_tree_as_json = az_tree.save_tree_as_json(\n",
    "    tree=tree,\n",
    "    json_file_path=\"./output/save_tree/save_tree.json\",\n",
    "    # file_categorizer=lambda key, leaf: key # Will create lots of json files!\n",
    ")\n"
   ]
  },
  {
   "attachments": {},
   "cell_type": "markdown",
   "metadata": {},
   "source": [
    "### Transform Tree"
   ]
  },
  {
   "cell_type": "code",
   "execution_count": null,
   "metadata": {},
   "outputs": [],
   "source": [
    "# # TODO: Add examples\n",
    "# transform_tree = az_tree.transform_tree(events=events)"
   ]
  },
  {
   "attachments": {},
   "cell_type": "markdown",
   "metadata": {},
   "source": [
    "### Tree Walk"
   ]
  },
  {
   "cell_type": "code",
   "execution_count": null,
   "metadata": {},
   "outputs": [],
   "source": [
    "tree_walk = az_tree.tree_walk(\n",
    "    tree=tree,\n",
    "    processor=lambda path, name, leaf: leaf.update({name: \"/\".join(path)}),\n",
    "    tree_filter=lambda path, name, leaf: \"[fail]\" in name,\n",
    ")\n",
    "if not os.path.exists(\"./output\"): os.mkdir(\"output\")\n",
    "with open(\"./output/tree_walk.json\", \"w\") as f:\n",
    "    json.dump(tree, f, ensure_ascii=False, indent=2)"
   ]
  },
  {
   "attachments": {},
   "cell_type": "markdown",
   "metadata": {},
   "source": [
    "### Tree Walk From Jsons"
   ]
  },
  {
   "cell_type": "code",
   "execution_count": null,
   "metadata": {},
   "outputs": [],
   "source": [
    "tree_walk_from_jsons = az_tree.tree_walk_from_jsons(\n",
    "    path_pattern=\"output/tree_walk.json\",\n",
    "    processor=lambda path, name, leaf: leaf.update({name: path[-1]}),\n",
    "    tree_filter=lambda path, name, leaf: \"[fail]\" in name\n",
    ")\n"
   ]
  },
  {
   "attachments": {},
   "cell_type": "markdown",
   "metadata": {},
   "source": [
    "### Tree Walk From Jsons (Scenario 2)"
   ]
  },
  {
   "cell_type": "code",
   "execution_count": null,
   "metadata": {},
   "outputs": [],
   "source": [
    "results = {}\n",
    "tree_walk_from_jsons = az_tree.tree_walk_from_jsons(\n",
    "    path_pattern=\"output/tree_walk.json\",\n",
    "    processor=lambda path, name, leaf: results.update({path[-1]: leaf}),\n",
    "    tree_filter=lambda path, name, leaf: \"[fail]\" in name\n",
    ")\n",
    "results\n"
   ]
  },
  {
   "attachments": {},
   "cell_type": "markdown",
   "metadata": {},
   "source": [
    "### Tree Update Totals"
   ]
  },
  {
   "cell_type": "code",
   "execution_count": null,
   "metadata": {},
   "outputs": [],
   "source": [
    "# # TODO: Add example\n",
    "# tree_update_totals = az_tree.tree_update_totals(...)"
   ]
  },
  {
   "attachments": {},
   "cell_type": "markdown",
   "metadata": {},
   "source": [
    "### Tree Get Category Totals"
   ]
  },
  {
   "cell_type": "code",
   "execution_count": null,
   "metadata": {},
   "outputs": [],
   "source": [
    "tree_get_category_totals = az_tree.tree_get_category_totals(\n",
    "    tree=tree,\n",
    "    categorizer=lambda path, name, leaf: leaf['info']['type'] if 'info' in leaf else None,\n",
    "    tree_filter=lambda path, name, leaf: \"[fail]\" not in name\n",
    ")\n",
    "tree_get_category_totals"
   ]
  },
  {
   "attachments": {},
   "cell_type": "markdown",
   "metadata": {},
   "source": [
    "### Tree Get Category Totals From Jsons"
   ]
  },
  {
   "cell_type": "code",
   "execution_count": null,
   "metadata": {},
   "outputs": [],
   "source": [
    "# # TODO: Add example\n",
    "tree_get_category_totals_from_jsons = az_tree.tree_get_category_totals_from_jsons(...)"
   ]
  },
  {
   "attachments": {},
   "cell_type": "markdown",
   "metadata": {},
   "source": [
    "### Search Tree"
   ]
  },
  {
   "cell_type": "code",
   "execution_count": null,
   "metadata": {},
   "outputs": [],
   "source": [
    "# # TODO: Add example\n",
    "search_tree = az_tree.search_tree(\n",
    "    tree=tree,\n",
    "    tree_filter=lambda path, name, leaf: \"[fail]\" not in name\n",
    ")"
   ]
  },
  {
   "attachments": {},
   "cell_type": "markdown",
   "metadata": {},
   "source": [
    "### Search Tree From Jsons"
   ]
  },
  {
   "cell_type": "code",
   "execution_count": null,
   "metadata": {},
   "outputs": [],
   "source": [
    "# # TODO: Add example\n",
    "search_tree_from_jsons = az_tree.search_tree_from_jsons(...)"
   ]
  },
  {
   "attachments": {},
   "cell_type": "markdown",
   "metadata": {},
   "source": [
    "### Process Trees From Jsons"
   ]
  },
  {
   "cell_type": "code",
   "execution_count": null,
   "metadata": {},
   "outputs": [],
   "source": [
    "# # TODO: Add example\n",
    "process_trees_from_jsons = az_tree.process_trees_from_jsons(...)"
   ]
  }
 ],
 "metadata": {
  "kernelspec": {
   "display_name": "venv",
   "language": "python",
   "name": "python3"
  },
  "language_info": {
   "codemirror_mode": {
    "name": "ipython",
    "version": 3
   },
   "file_extension": ".py",
   "mimetype": "text/x-python",
   "name": "python",
   "nbconvert_exporter": "python",
   "pygments_lexer": "ipython3",
   "version": "3.9.5"
  },
  "orig_nbformat": 4,
  "vscode": {
   "interpreter": {
    "hash": "ff11ae4b6c9d148e8a37fc0f3b96f28dba262f842a6a7af3b45641288fc9320c"
   }
  }
 },
 "nbformat": 4,
 "nbformat_minor": 2
}
